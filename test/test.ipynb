{
 "metadata": {
  "language_info": {
   "codemirror_mode": {
    "name": "ipython",
    "version": 3
   },
   "file_extension": ".py",
   "mimetype": "text/x-python",
   "name": "python",
   "nbconvert_exporter": "python",
   "pygments_lexer": "ipython3",
   "version": "3.8.3"
  },
  "orig_nbformat": 2,
  "kernelspec": {
   "name": "python383jvsc74a57bd0ed56e36bc1691e62674ffaf6f7d6752b69d368156a3e5933efa16e3cfb93a055",
   "display_name": "Python 3.8.3 64-bit ('anaconda3': virtualenv)"
  },
  "metadata": {
   "interpreter": {
    "hash": "ed56e36bc1691e62674ffaf6f7d6752b69d368156a3e5933efa16e3cfb93a055"
   }
  }
 },
 "nbformat": 4,
 "nbformat_minor": 2,
 "cells": [
  {
   "cell_type": "code",
   "execution_count": 1,
   "metadata": {},
   "outputs": [],
   "source": [
    "from imutils.perspective import four_point_transform\n",
    "from imutils import contours \n",
    "import numpy as np\n",
    "import argparse\n",
    "import imutils\n",
    "import cv2\n",
    "import matplotlib.pyplot as plt\n",
    "%matplotlib inline\n"
   ]
  },
  {
   "cell_type": "code",
   "execution_count": 2,
   "metadata": {},
   "outputs": [],
   "source": [
    "def detect(img):\n",
    "\n",
    "    answerKey = {0: 1,\n",
    "                1:4,\n",
    "                2:0,\n",
    "                3:3,\n",
    "                4:5}\n",
    "\n",
    "    gray = cv2.cvtColor(img, cv2.COLOR_BGR2GRAY)\n",
    "    blurred = cv2.GaussianBlur(gray, (5,5), 0)\n",
    "    edged = cv2.Canny(blurred, 75, 200)\n",
    "    try:\n",
    "        cnts = cv2.findContours(edged.copy(), cv2.RETR_EXTERNAL, cv2.CHAIN_APPROX_SIMPLE)\n",
    "        cnts = imutils.grab_contours(cnts)\n",
    "        docCnt = None\n",
    "\n",
    "        if len(cnts) > 0:\n",
    "            cnts = sorted(cnts, key=cv2.contourArea, reverse=True)\n",
    "            \n",
    "            for c in cnts:\n",
    "                print(c)\n",
    "                peri = cv2.arcLength(c, True)\n",
    "                approx = cv2.approxPolyDP(c, 0.02*peri, True)\n",
    "                \n",
    "                if len(approx) == 4:\n",
    "                    docCnt = approx\n",
    "                    break\n",
    "                    \n",
    "        paper = four_point_transform(img, docCnt.reshape(4,2))\n",
    "        warped = four_point_transform(gray, docCnt.reshape(4,2))\n",
    "\n",
    "        thresh = cv2.threshold(warped, 0, 255, cv2.THRESH_BINARY_INV | cv2.THRESH_OTSU)[1]\n",
    "\n",
    "        cnts = cv2.findContours(thresh.copy(), cv2.RETR_EXTERNAL, cv2.CHAIN_APPROX_SIMPLE)\n",
    "        cnts = imutils.grab_contours(cnts)\n",
    "\n",
    "        questionCnts = []\n",
    "\n",
    "        for c in cnts:\n",
    "            (x, y, w, h) = cv2.boundingRect(c)\n",
    "            ar = w / float(h)\n",
    "            \n",
    "            if w>= 20 and h >= 20 and ar >= 0.9 and ar<= 1.1:\n",
    "                questionCnts.append(c)\n",
    "                \n",
    "        questionCnts = contours.sort_contours(questionCnts, method='top-to-bottom')[0]\n",
    "        correct = 0\n",
    "\n",
    "        for (q, i) in enumerate(np.arange(0, len(questionCnts), 5)):\n",
    "            cnts = contours.sort_contours(questionCnts[i:i +5])[0]\n",
    "            bubbled = None\n",
    "            for (j, c) in enumerate(cnts):\n",
    "                mask = np.zeros(thresh.shape, dtype='uint8')\n",
    "                cv2.drawContours(mask, [c], -1, 255, -1)\n",
    "\n",
    "                mask = cv2.bitwise_and(thresh, thresh, mask=mask)\n",
    "                total = cv2.countNonZero(mask)\n",
    "\n",
    "                if bubbled is None or total > bubbled[0]:\n",
    "                    bubbled = (total, j)\n",
    "                    \n",
    "            color = (255, 0, 0)\n",
    "            k = answerKey[q]\n",
    "            # check to see if the bubbled answer is correct\n",
    "            if k == bubbled[1]:\n",
    "                color = (0, 255, 0)\n",
    "                correct += 1\n",
    "            # draw the outline of the correct answer on the test\n",
    "            cv2.drawContours(paper, [cnts[k]], -1, color, 3)\n",
    "    except:\n",
    "        correct = 0\n",
    "        print('Couldnt find the test paper!')\n",
    "        pass\n",
    "\n",
    "    score = (correct / 5.0) * 100\n",
    "    print(\"[INFO] score: {:.2f}%\".format(score))\n",
    "    cv2.putText(paper, \"{:.2f}%\".format(score), (10, 30),\n",
    "    cv2.FONT_HERSHEY_SIMPLEX, 0.9, (255, 0, 0), 2)\n",
    "\n",
    "    return paper\n",
    "\n"
   ]
  },
  {
   "cell_type": "code",
   "execution_count": 5,
   "metadata": {},
   "outputs": [
    {
     "output_type": "stream",
     "name": "stdout",
     "text": [
      "[[[607  18]]\n\n [[607  22]]\n\n [[605  24]]\n\n [[605  25]]\n\n [[602  28]]\n\n [[602  29]]\n\n [[601  30]]\n\n [[601  31]]\n\n [[600  32]]\n\n [[600  33]]\n\n [[599  34]]\n\n [[599  37]]\n\n [[598  38]]\n\n [[598  41]]\n\n [[597  42]]\n\n [[597  43]]\n\n [[596  44]]\n\n [[594  42]]\n\n [[592  42]]\n\n [[591  41]]\n\n [[590  42]]\n\n [[588  42]]\n\n [[584  46]]\n\n [[584  47]]\n\n [[583  48]]\n\n [[583  49]]\n\n [[582  50]]\n\n [[582  52]]\n\n [[581  53]]\n\n [[581  54]]\n\n [[580  55]]\n\n [[580  56]]\n\n [[579  57]]\n\n [[579  58]]\n\n [[578  59]]\n\n [[578  60]]\n\n [[579  61]]\n\n [[578  62]]\n\n [[577  62]]\n\n [[579  64]]\n\n [[577  66]]\n\n [[575  64]]\n\n [[574  64]]\n\n [[573  63]]\n\n [[572  63]]\n\n [[571  64]]\n\n [[571  65]]\n\n [[568  68]]\n\n [[568  69]]\n\n [[566  71]]\n\n [[566  74]]\n\n [[565  75]]\n\n [[565  76]]\n\n [[564  77]]\n\n [[564  78]]\n\n [[563  79]]\n\n [[563  80]]\n\n [[562  81]]\n\n [[562  82]]\n\n [[561  83]]\n\n [[561  84]]\n\n [[560  85]]\n\n [[560  86]]\n\n [[559  87]]\n\n [[559  88]]\n\n [[558  89]]\n\n [[558  90]]\n\n [[553  95]]\n\n [[551  95]]\n\n [[549  93]]\n\n [[549  87]]\n\n [[550  86]]\n\n [[550  83]]\n\n [[548  81]]\n\n [[548  80]]\n\n [[557  71]]\n\n [[558  71]]\n\n [[563  66]]\n\n [[564  66]]\n\n [[565  65]]\n\n [[566  65]]\n\n [[567  64]]\n\n [[569  64]]\n\n [[567  64]]\n\n [[566  65]]\n\n [[564  65]]\n\n [[563  66]]\n\n [[562  66]]\n\n [[556  72]]\n\n [[555  72]]\n\n [[554  71]]\n\n [[554  70]]\n\n [[552  68]]\n\n [[552  67]]\n\n [[548  63]]\n\n [[547  63]]\n\n [[545  61]]\n\n [[544  61]]\n\n [[543  60]]\n\n [[543  61]]\n\n [[544  61]]\n\n [[546  63]]\n\n [[547  63]]\n\n [[553  69]]\n\n [[553  70]]\n\n [[555  72]]\n\n [[548  79]]\n\n [[548  82]]\n\n [[550  84]]\n\n [[550  86]]\n\n [[549  87]]\n\n [[549  94]]\n\n [[550  95]]\n\n [[554  95]]\n\n [[558  91]]\n\n [[558  90]]\n\n [[559  89]]\n\n [[559  88]]\n\n [[560  87]]\n\n [[560  86]]\n\n [[561  85]]\n\n [[561  84]]\n\n [[562  83]]\n\n [[562  82]]\n\n [[563  81]]\n\n [[563  80]]\n\n [[564  79]]\n\n [[564  78]]\n\n [[565  77]]\n\n [[565  75]]\n\n [[566  74]]\n\n [[566  72]]\n\n [[568  70]]\n\n [[568  69]]\n\n [[571  66]]\n\n [[571  65]]\n\n [[573  63]]\n\n [[576  66]]\n\n [[578  66]]\n\n [[578  65]]\n\n [[579  64]]\n\n [[578  63]]\n\n [[578  62]]\n\n [[579  61]]\n\n [[578  60]]\n\n [[579  59]]\n\n [[579  58]]\n\n [[580  57]]\n\n [[580  56]]\n\n [[581  55]]\n\n [[581  53]]\n\n [[582  52]]\n\n [[582  51]]\n\n [[583  50]]\n\n [[583  49]]\n\n [[584  48]]\n\n [[584  47]]\n\n [[589  42]]\n\n [[590  42]]\n\n [[591  41]]\n\n [[592  42]]\n\n [[593  42]]\n\n [[595  44]]\n\n [[597  44]]\n\n [[597  43]]\n\n [[598  42]]\n\n [[598  38]]\n\n [[599  37]]\n\n [[599  34]]\n\n [[601  32]]\n\n [[601  31]]\n\n [[602  30]]\n\n [[602  29]]\n\n [[604  27]]\n\n [[604  26]]\n\n [[607  23]]]\n[[[427  46]]\n\n [[427  57]]\n\n [[428  58]]\n\n [[428  64]]\n\n [[429  65]]\n\n [[429  78]]\n\n [[430  79]]\n\n [[430  87]]\n\n [[431  88]]\n\n [[431  99]]\n\n [[432 100]]\n\n [[432 107]]\n\n [[433 108]]\n\n [[433 117]]\n\n [[434 118]]\n\n [[434 125]]\n\n [[436 127]]\n\n [[437 127]]\n\n [[438 128]]\n\n [[439 128]]\n\n [[441 130]]\n\n [[442 130]]\n\n [[447 135]]\n\n [[448 135]]\n\n [[450 137]]\n\n [[451 137]]\n\n [[457 143]]\n\n [[458 143]]\n\n [[464 149]]\n\n [[464 150]]\n\n [[466 152]]\n\n [[466 153]]\n\n [[467 154]]\n\n [[467 157]]\n\n [[468 158]]\n\n [[468 159]]\n\n [[469 158]]\n\n [[470 158]]\n\n [[470 157]]\n\n [[471 156]]\n\n [[471 155]]\n\n [[473 153]]\n\n [[473 152]]\n\n [[476 149]]\n\n [[476 144]]\n\n [[477 143]]\n\n [[477 141]]\n\n [[478 140]]\n\n [[478 138]]\n\n [[479 137]]\n\n [[479 136]]\n\n [[483 132]]\n\n [[483 129]]\n\n [[483 131]]\n\n [[480 134]]\n\n [[480 135]]\n\n [[478 137]]\n\n [[478 140]]\n\n [[477 141]]\n\n [[477 143]]\n\n [[476 144]]\n\n [[476 148]]\n\n [[473 151]]\n\n [[473 152]]\n\n [[471 154]]\n\n [[471 155]]\n\n [[470 156]]\n\n [[469 155]]\n\n [[468 156]]\n\n [[467 155]]\n\n [[467 153]]\n\n [[466 152]]\n\n [[466 151]]\n\n [[464 149]]\n\n [[464 148]]\n\n [[460 144]]\n\n [[460 121]]\n\n [[459 120]]\n\n [[459 113]]\n\n [[460 112]]\n\n [[459 111]]\n\n [[460 110]]\n\n [[459 109]]\n\n [[459  99]]\n\n [[460  98]]\n\n [[460  94]]\n\n [[459  93]]\n\n [[459  89]]\n\n [[458  88]]\n\n [[458  81]]\n\n [[457  80]]\n\n [[450  80]]\n\n [[449  81]]\n\n [[448  81]]\n\n [[447  82]]\n\n [[447  93]]\n\n [[446  94]]\n\n [[446  95]]\n\n [[447  96]]\n\n [[447 117]]\n\n [[448 118]]\n\n [[448 124]]\n\n [[449 125]]\n\n [[449 133]]\n\n [[449 125]]\n\n [[448 124]]\n\n [[448 118]]\n\n [[447 117]]\n\n [[447  96]]\n\n [[446  95]]\n\n [[446  94]]\n\n [[447  93]]\n\n [[447  83]]\n\n [[450  80]]\n\n [[456  80]]\n\n [[458  82]]\n\n [[458  88]]\n\n [[459  89]]\n\n [[459  93]]\n\n [[460  94]]\n\n [[460  98]]\n\n [[459  99]]\n\n [[459 109]]\n\n [[460 110]]\n\n [[459 111]]\n\n [[460 112]]\n\n [[459 113]]\n\n [[459 120]]\n\n [[460 121]]\n\n [[460 142]]\n\n [[459 143]]\n\n [[458 143]]\n\n [[453 138]]\n\n [[452 138]]\n\n [[449 135]]\n\n [[448 135]]\n\n [[443 130]]\n\n [[442 130]]\n\n [[440 128]]\n\n [[438 128]]\n\n [[434 124]]\n\n [[434 118]]\n\n [[433 117]]\n\n [[433 108]]\n\n [[432 107]]\n\n [[432 100]]\n\n [[431  99]]\n\n [[431  88]]\n\n [[430  87]]\n\n [[430  79]]\n\n [[429  78]]\n\n [[429  66]]\n\n [[430  65]]\n\n [[431  65]]\n\n [[429  65]]\n\n [[428  64]]\n\n [[428  58]]\n\n [[427  57]]]\n[[[542 146]]\n\n [[541 147]]\n\n [[540 147]]\n\n [[532 155]]\n\n [[532 156]]\n\n [[526 162]]\n\n [[526 163]]\n\n [[520 169]]\n\n [[520 170]]\n\n [[519 171]]\n\n [[518 171]]\n\n [[510 179]]\n\n [[510 180]]\n\n [[505 185]]\n\n [[505 186]]\n\n [[503 188]]\n\n [[502 188]]\n\n [[494 196]]\n\n [[493 196]]\n\n [[489 200]]\n\n [[488 200]]\n\n [[486 202]]\n\n [[486 203]]\n\n [[491 198]]\n\n [[492 198]]\n\n [[494 196]]\n\n [[495 196]]\n\n [[499 192]]\n\n [[499 191]]\n\n [[500 190]]\n\n [[501 190]]\n\n [[510 181]]\n\n [[510 180]]\n\n [[519 171]]\n\n [[520 171]]\n\n [[520 170]]\n\n [[526 164]]\n\n [[526 163]]\n\n [[531 158]]\n\n [[531 157]]\n\n [[541 147]]\n\n [[542 147]]\n\n [[543 148]]\n\n [[543 158]]\n\n [[544 159]]\n\n [[544 165]]\n\n [[545 166]]\n\n [[545 177]]\n\n [[546 178]]\n\n [[546 193]]\n\n [[547 194]]\n\n [[547 204]]\n\n [[548 205]]\n\n [[548 217]]\n\n [[549 218]]\n\n [[549 232]]\n\n [[550 233]]\n\n [[550 243]]\n\n [[551 244]]\n\n [[551 257]]\n\n [[552 258]]\n\n [[552 273]]\n\n [[553 274]]\n\n [[553 285]]\n\n [[554 286]]\n\n [[553 287]]\n\n [[554 288]]\n\n [[554 301]]\n\n [[555 302]]\n\n [[555 319]]\n\n [[556 320]]\n\n [[556 331]]\n\n [[557 332]]\n\n [[557 350]]\n\n [[558 351]]\n\n [[558 365]]\n\n [[559 366]]\n\n [[559 379]]\n\n [[560 380]]\n\n [[559 381]]\n\n [[560 382]]\n\n [[560 386]]\n\n [[560 382]]\n\n [[559 381]]\n\n [[560 380]]\n\n [[559 379]]\n\n [[559 366]]\n\n [[558 365]]\n\n [[558 351]]\n\n [[557 350]]\n\n [[557 332]]\n\n [[556 331]]\n\n [[556 320]]\n\n [[555 319]]\n\n [[555 302]]\n\n [[554 301]]\n\n [[554 288]]\n\n [[553 287]]\n\n [[554 286]]\n\n [[553 285]]\n\n [[553 274]]\n\n [[552 273]]\n\n [[552 258]]\n\n [[551 257]]\n\n [[551 244]]\n\n [[550 243]]\n\n [[550 233]]\n\n [[549 232]]\n\n [[549 218]]\n\n [[548 217]]\n\n [[548 205]]\n\n [[547 204]]\n\n [[547 194]]\n\n [[546 193]]\n\n [[546 178]]\n\n [[545 177]]\n\n [[545 166]]\n\n [[544 165]]\n\n [[544 159]]\n\n [[543 158]]\n\n [[543 147]]]\nCouldnt find the test paper!\n[INFO] score: 0.00%\n"
     ]
    }
   ],
   "source": [
    "video = cv2.VideoCapture(0)\n",
    "\n",
    "while(True):\n",
    "    _, frame = video.read()\n",
    "    cv2.imshow('frame', frame)\n",
    "\n",
    "    if cv2.waitKey(1) & 0xff == 27:\n",
    "        result = detect(frame)\n",
    "        cv2.destroyAllWindows()\n",
    "        video.release()\n",
    "        break\n",
    "\n",
    "\n",
    "while(True):\n",
    "    cv2.imshow('result', result)\n",
    "    if cv2.waitKey(1) & 0xff == 27:\n",
    "        cv2.destroyAllWindows()\n",
    "        break\n",
    "        "
   ]
  },
  {
   "cell_type": "code",
   "execution_count": 21,
   "metadata": {},
   "outputs": [],
   "source": [
    "video.release()"
   ]
  },
  {
   "cell_type": "code",
   "execution_count": null,
   "metadata": {},
   "outputs": [],
   "source": []
  }
 ]
}