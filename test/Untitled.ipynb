{
 "cells": [
  {
   "cell_type": "code",
   "execution_count": 1,
   "metadata": {},
   "outputs": [],
   "source": [
    "import cv2\n",
    "import numpy as np"
   ]
  },
  {
   "cell_type": "code",
   "execution_count": 2,
   "metadata": {},
   "outputs": [],
   "source": [
    "#image = cv2.imread('data/3.jpg',-1)\n",
    "\n",
    "video = cv2.VideoCapture(0)\n",
    "\n",
    "while True:\n",
    "    _, image = video.read()\n",
    "    \n",
    "    paper = cv2.resize(image,(500,500))\n",
    "    ret, thresh_gray = cv2.threshold(cv2.cvtColor(paper, cv2.COLOR_BGR2GRAY),\n",
    "                            30, 255, cv2.THRESH_BINARY)\n",
    "    contours, hie = cv2.findContours(thresh_gray, cv2.RETR_EXTERNAL,cv2.CHAIN_APPROX_NONE)\n",
    "\n",
    "\n",
    "    for c in contours[:10]:\n",
    "        rect = cv2.minAreaRect(c)\n",
    "        box = cv2.boxPoints(rect)\n",
    "        # convert all coordinates floating point values to int\n",
    "        box = np.int0(box)\n",
    "        # draw a green 'nghien' rectangle\n",
    "        cv2.drawContours(paper, [box], 0, (0, 255, 0),5)\n",
    "\n",
    "    cv2.imshow('paper', paper)\n",
    "    #cv2.imwrite('paper.jpg',paper)\n",
    "    if cv2.waitKey(1) % 0xff == 27:\n",
    "        break\n",
    "\n",
    "video.release()\n",
    "cv2.destroyAllWindows()"
   ]
  }
 ],
 "metadata": {
  "kernelspec": {
   "display_name": "Python 3",
   "language": "python",
   "name": "python3"
  },
  "language_info": {
   "codemirror_mode": {
    "name": "ipython",
    "version": 3
   },
   "file_extension": ".py",
   "mimetype": "text/x-python",
   "name": "python",
   "nbconvert_exporter": "python",
   "pygments_lexer": "ipython3",
   "version": "3.8.3"
  }
 },
 "nbformat": 4,
 "nbformat_minor": 4
}
